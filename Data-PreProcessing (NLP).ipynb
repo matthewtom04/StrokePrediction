{
 "cells": [
  {
   "cell_type": "code",
   "execution_count": 1,
   "metadata": {},
   "outputs": [],
   "source": [
    "import pickle\n",
    "import pandas as pd\n",
    "import numpy as np\n",
    "import nltk\n",
    "import gensim\n",
    "import re\n",
    "import seaborn as sns\n",
    "import matplotlib.pyplot as plt\n",
    "import matplotlib.style as style\n",
    "style.use('ggplot')\n",
    "\n",
    "from nltk.stem import WordNetLemmatizer\n",
    "from nltk.corpus import stopwords\n",
    "from gensim.models import KeyedVectors\n",
    "from sklearn.feature_extraction.text import CountVectorizer, TfidfVectorizer\n",
    "from sklearn.metrics.pairwise import cosine_similarity\n",
    "\n"
   ]
  },
  {
   "cell_type": "code",
   "execution_count": 2,
   "metadata": {},
   "outputs": [],
   "source": [
    "with open('EHR_df_part2', 'rb') as f:\n",
    "    EHR_df = pickle.load(f)"
   ]
  },
  {
   "cell_type": "code",
   "execution_count": 3,
   "metadata": {
    "scrolled": true
   },
   "outputs": [
    {
     "data": {
      "text/html": [
       "<div>\n",
       "<style scoped>\n",
       "    .dataframe tbody tr th:only-of-type {\n",
       "        vertical-align: middle;\n",
       "    }\n",
       "\n",
       "    .dataframe tbody tr th {\n",
       "        vertical-align: top;\n",
       "    }\n",
       "\n",
       "    .dataframe thead th {\n",
       "        text-align: right;\n",
       "    }\n",
       "</style>\n",
       "<table border=\"1\" class=\"dataframe\">\n",
       "  <thead>\n",
       "    <tr style=\"text-align: right;\">\n",
       "      <th></th>\n",
       "      <th>SUBJECT_ID</th>\n",
       "      <th>HADM_ID</th>\n",
       "      <th>CATEGORY</th>\n",
       "      <th>TEXT</th>\n",
       "      <th>ICD9_CODE</th>\n",
       "      <th>LONG_TITLE</th>\n",
       "      <th>MEDICAL_HISTORY</th>\n",
       "      <th>SOCIAL_HISTORY</th>\n",
       "      <th>FAMILY_HISTORY</th>\n",
       "      <th>HISTORY_INFO</th>\n",
       "      <th>stroke_label</th>\n",
       "    </tr>\n",
       "  </thead>\n",
       "  <tbody>\n",
       "    <tr>\n",
       "      <th>1</th>\n",
       "      <td>22532</td>\n",
       "      <td>167853</td>\n",
       "      <td>Discharge summary</td>\n",
       "      <td>admission date:          discharge date:      ...</td>\n",
       "      <td>011</td>\n",
       "      <td>Pulmonary tuberculosis, unspecified, tubercle ...</td>\n",
       "      <td>:  cardiomyopathy  idiopathic, echocardiogram...</td>\n",
       "      <td>:  the patient is an african american female ...</td>\n",
       "      <td>:  there is a   of colon cancer</td>\n",
       "      <td>:  cardiomyopathy  idiopathic, echocardiogram...</td>\n",
       "      <td>non-stroke</td>\n",
       "    </tr>\n",
       "    <tr>\n",
       "      <th>2</th>\n",
       "      <td>13702</td>\n",
       "      <td>196489</td>\n",
       "      <td>Discharge summary</td>\n",
       "      <td>admission date:                 discharge date...</td>\n",
       "      <td>518</td>\n",
       "      <td>Acute and chronic respiratory failure</td>\n",
       "      <td>:   copd flare fev1 40  in  , on 5l oxygen, s...</td>\n",
       "      <td>: the patient is married and worked as a clin...</td>\n",
       "      <td>:   fhx cad  father with an mi in his 40 s, d...</td>\n",
       "      <td>:   copd flare fev1 40  in  , on 5l oxygen, s...</td>\n",
       "      <td>non-stroke</td>\n",
       "    </tr>\n",
       "    <tr>\n",
       "      <th>3</th>\n",
       "      <td>26880</td>\n",
       "      <td>135453</td>\n",
       "      <td>Discharge summary</td>\n",
       "      <td>admission date:                 discharge date...</td>\n",
       "      <td>805</td>\n",
       "      <td>Closed fracture of sixth cervical vertebra</td>\n",
       "      <td>: coronary artery disease s p cabg chf htn ai...</td>\n",
       "      <td>: patient recently discharged from   for seve...</td>\n",
       "      <td>: non contributory</td>\n",
       "      <td>: coronary artery disease s p cabg chf htn ai...</td>\n",
       "      <td>non-stroke</td>\n",
       "    </tr>\n",
       "    <tr>\n",
       "      <th>4</th>\n",
       "      <td>53181</td>\n",
       "      <td>170490</td>\n",
       "      <td>Discharge summary</td>\n",
       "      <td>admission date:                 discharge date...</td>\n",
       "      <td>225</td>\n",
       "      <td>Benign neoplasm of cerebral meninges</td>\n",
       "      <td>, past surgical history, facial history, and</td>\n",
       "      <td>to the initial note on     she cam to the bt...</td>\n",
       "      <td>: cancer, diabetes, hearing loss, and heart d...</td>\n",
       "      <td>, past surgical history, facial history, and ...</td>\n",
       "      <td>non-stroke</td>\n",
       "    </tr>\n",
       "    <tr>\n",
       "      <th>5</th>\n",
       "      <td>20646</td>\n",
       "      <td>134727</td>\n",
       "      <td>Discharge summary</td>\n",
       "      <td>admission date:                 discharge date...</td>\n",
       "      <td>518</td>\n",
       "      <td>Acute respiratory failure</td>\n",
       "      <td>: cad s p stent in   chf htn pe     pancreati...</td>\n",
       "      <td>: the patient has been in rehab for the past ...</td>\n",
       "      <td>: doesn t know about siblings health  childre...</td>\n",
       "      <td>: cad s p stent in   chf htn pe     pancreati...</td>\n",
       "      <td>non-stroke</td>\n",
       "    </tr>\n",
       "  </tbody>\n",
       "</table>\n",
       "</div>"
      ],
      "text/plain": [
       "   SUBJECT_ID  HADM_ID           CATEGORY  \\\n",
       "1       22532   167853  Discharge summary   \n",
       "2       13702   196489  Discharge summary   \n",
       "3       26880   135453  Discharge summary   \n",
       "4       53181   170490  Discharge summary   \n",
       "5       20646   134727  Discharge summary   \n",
       "\n",
       "                                                TEXT ICD9_CODE  \\\n",
       "1  admission date:          discharge date:      ...       011   \n",
       "2  admission date:                 discharge date...       518   \n",
       "3  admission date:                 discharge date...       805   \n",
       "4  admission date:                 discharge date...       225   \n",
       "5  admission date:                 discharge date...       518   \n",
       "\n",
       "                                          LONG_TITLE  \\\n",
       "1  Pulmonary tuberculosis, unspecified, tubercle ...   \n",
       "2              Acute and chronic respiratory failure   \n",
       "3         Closed fracture of sixth cervical vertebra   \n",
       "4               Benign neoplasm of cerebral meninges   \n",
       "5                          Acute respiratory failure   \n",
       "\n",
       "                                     MEDICAL_HISTORY  \\\n",
       "1   :  cardiomyopathy  idiopathic, echocardiogram...   \n",
       "2   :   copd flare fev1 40  in  , on 5l oxygen, s...   \n",
       "3   : coronary artery disease s p cabg chf htn ai...   \n",
       "4      , past surgical history, facial history, and    \n",
       "5   : cad s p stent in   chf htn pe     pancreati...   \n",
       "\n",
       "                                      SOCIAL_HISTORY  \\\n",
       "1   :  the patient is an african american female ...   \n",
       "2   : the patient is married and worked as a clin...   \n",
       "3   : patient recently discharged from   for seve...   \n",
       "4    to the initial note on     she cam to the bt...   \n",
       "5   : the patient has been in rehab for the past ...   \n",
       "\n",
       "                                      FAMILY_HISTORY  \\\n",
       "1                 :  there is a   of colon cancer      \n",
       "2   :   fhx cad  father with an mi in his 40 s, d...   \n",
       "3                               : non contributory     \n",
       "4   : cancer, diabetes, hearing loss, and heart d...   \n",
       "5   : doesn t know about siblings health  childre...   \n",
       "\n",
       "                                        HISTORY_INFO stroke_label  \n",
       "1   :  cardiomyopathy  idiopathic, echocardiogram...   non-stroke  \n",
       "2   :   copd flare fev1 40  in  , on 5l oxygen, s...   non-stroke  \n",
       "3   : coronary artery disease s p cabg chf htn ai...   non-stroke  \n",
       "4   , past surgical history, facial history, and ...   non-stroke  \n",
       "5   : cad s p stent in   chf htn pe     pancreati...   non-stroke  "
      ]
     },
     "execution_count": 3,
     "metadata": {},
     "output_type": "execute_result"
    }
   ],
   "source": [
    "EHR_df.head()"
   ]
  },
  {
   "cell_type": "code",
   "execution_count": 4,
   "metadata": {},
   "outputs": [],
   "source": [
    "#Removing features(SUBJECT_ID, HADM_ID, CATEGORY) from the final DataFrame\n",
    "EHR_df.drop(columns=['SUBJECT_ID', 'HADM_ID','CATEGORY','ICD9_CODE'],inplace=True)"
   ]
  },
  {
   "cell_type": "markdown",
   "metadata": {},
   "source": [
    "## NLP Pre-Processing\n",
    "\n",
    "Cleaning the 'HISTORY_INFO' corpus with NLP pre-processing techniques"
   ]
  },
  {
   "cell_type": "code",
   "execution_count": 5,
   "metadata": {},
   "outputs": [],
   "source": [
    "#Loading the Medical Abbreviation dictionary pkl \n",
    "with open('med_dict.plk', 'rb') as f:\n",
    "    med_dict = pickle.load(f, encoding ='UTF-8')"
   ]
  },
  {
   "cell_type": "code",
   "execution_count": 6,
   "metadata": {},
   "outputs": [],
   "source": [
    "#Creating the following helper functions:\n",
    "def abbr_replace(string):\n",
    "    '''\n",
    "    Input: Input a given string that contains a description of the medical, social , \n",
    "    and family history of the patient\n",
    "    \n",
    "    Output: A cleaned string where all the medical abbreviations is replaced.\n",
    "    '''\n",
    "    re_string = ' '\n",
    "    med_abbr = 0\n",
    "    for s in string:\n",
    "        if s in med_dict:\n",
    "            s = med_dict[s]\n",
    "            re_string += ' ' + s\n",
    "        else:\n",
    "            re_string += ' ' + s\n",
    "    return re_string\n",
    "            \n",
    "def lem(string):\n",
    "    '''Lemmatization of the words in the string'''\n",
    "    lem = WordNetLemmatizer()\n",
    "    lemma = [lem.lemmatize(t) for t in string]\n",
    "    return lemma\n",
    "\n",
    "def punc(x):\n",
    "    '''Removing any punctuations'''\n",
    "    pattern = r'[^a-zA-z0-9\\s]'\n",
    "    text = re.sub(pattern, '', str(x))\n",
    "    return x\n",
    "\n",
    "\n",
    "stop = stopwords.words('english');\n",
    "\n",
    "stop_words = [\"disease, diseases, disorder, symptom, symptoms, drug, drugs, problems, problem,prob, probs, med, meds,\\\n",
    ", pill, pills, medicine, medicines, medication, medications, treatment, treatments, caps, capsules, capsule,\\\n",
    ", tablet, tablets, tabs, doctor, dr, dr., doc, physician, physicians, test, tests, testing, specialist, specialists,\\\n",
    ", side-effect, side-effects, patient, patients, pharmaceutical, pharmaceuticals, pharma, diagnosis, diagnose, diagnosed, exam,\\\n",
    ", challenge, device, condition, conditions, suffer, suffering ,suffered, feel, feeling, prescription, prescribe,\\\n",
    ", prescribed, over-the-counter, a, about, above, after, again, against, all, am, an, and, any, are, aren't, as, at, be, because, been, before,\\\n",
    ", being, below, between, both, but, by, can, can't, cannot, could, couldn't, did, didn't, do, does, doesn't,\\\n",
    ", doing, don't, down, during, each, few, for, from, further, had, hadn't, has, hasn't, have, haven't, having, he,\\\n",
    ", he'd, he'll, he's, her, here, here's, hers, herself, him, himself, his, how, how's, i, i'd, i'll, i'm, i've, if, in, into,\\\n",
    ", is, isn't, it, it's, its, itself, let's, me, more, most, mustn't, my, myself, no, nor, not, of, off, on, once, only, or,\\\n",
    ", other, ought, our, ours , ourselves, out, over, own, same, shan't, she, she'd, she'll, she's, should, shouldn't,\\\n",
    ", so, some, such, than, that, that's, the, their, theirs, them, themselves, then, there, there's, these, they,\\\n",
    ", they'd, they'll, they're, they've, this, those, through, to, too, under, until, up, very, was, wasn't, we, we'd,\\\n",
    ", we'll, we're, we've, were, weren't, what, what's, when, when's, where, where's, which, while, who, who's,\\\n",
    ", whom, why, why's, with, won't, would, wouldn't, you, you'd, you'll, you're, you've, your, yours, yourself,\\\n",
    ", yourselves, n't, 're, 've, 'd, 's, 'll, 'm\",'life','wife','year','ago','non','contributory']\n",
    "\n",
    "stop.extend(stop_words)"
   ]
  },
  {
   "cell_type": "code",
   "execution_count": 7,
   "metadata": {},
   "outputs": [
    {
     "data": {
      "text/html": [
       "<div>\n",
       "<style scoped>\n",
       "    .dataframe tbody tr th:only-of-type {\n",
       "        vertical-align: middle;\n",
       "    }\n",
       "\n",
       "    .dataframe tbody tr th {\n",
       "        vertical-align: top;\n",
       "    }\n",
       "\n",
       "    .dataframe thead th {\n",
       "        text-align: right;\n",
       "    }\n",
       "</style>\n",
       "<table border=\"1\" class=\"dataframe\">\n",
       "  <thead>\n",
       "    <tr style=\"text-align: right;\">\n",
       "      <th></th>\n",
       "      <th>TEXT</th>\n",
       "      <th>LONG_TITLE</th>\n",
       "      <th>MEDICAL_HISTORY</th>\n",
       "      <th>SOCIAL_HISTORY</th>\n",
       "      <th>FAMILY_HISTORY</th>\n",
       "      <th>HISTORY_INFO</th>\n",
       "      <th>stroke_label</th>\n",
       "    </tr>\n",
       "  </thead>\n",
       "  <tbody>\n",
       "    <tr>\n",
       "      <th>1</th>\n",
       "      <td>admission date:          discharge date:      ...</td>\n",
       "      <td>Pulmonary tuberculosis, unspecified, tubercle ...</td>\n",
       "      <td>:  cardiomyopathy  idiopathic, echocardiogram...</td>\n",
       "      <td>:  the patient is an african american female ...</td>\n",
       "      <td>:  there is a   of colon cancer</td>\n",
       "      <td>:  cardiomyopathy  idiopathic, echocardiogram...</td>\n",
       "      <td>non-stroke</td>\n",
       "    </tr>\n",
       "    <tr>\n",
       "      <th>2</th>\n",
       "      <td>admission date:                 discharge date...</td>\n",
       "      <td>Acute and chronic respiratory failure</td>\n",
       "      <td>:   copd flare fev1 40  in  , on 5l oxygen, s...</td>\n",
       "      <td>: the patient is married and worked as a clin...</td>\n",
       "      <td>:   fhx cad  father with an mi in his 40 s, d...</td>\n",
       "      <td>:   copd flare fev1 40  in  , on 5l oxygen, s...</td>\n",
       "      <td>non-stroke</td>\n",
       "    </tr>\n",
       "    <tr>\n",
       "      <th>3</th>\n",
       "      <td>admission date:                 discharge date...</td>\n",
       "      <td>Closed fracture of sixth cervical vertebra</td>\n",
       "      <td>: coronary artery disease s p cabg chf htn ai...</td>\n",
       "      <td>: patient recently discharged from   for seve...</td>\n",
       "      <td>: non contributory</td>\n",
       "      <td>: coronary artery disease s p cabg chf htn ai...</td>\n",
       "      <td>non-stroke</td>\n",
       "    </tr>\n",
       "    <tr>\n",
       "      <th>4</th>\n",
       "      <td>admission date:                 discharge date...</td>\n",
       "      <td>Benign neoplasm of cerebral meninges</td>\n",
       "      <td>, past surgical history, facial history, and</td>\n",
       "      <td>to the initial note on     she cam to the bt...</td>\n",
       "      <td>: cancer, diabetes, hearing loss, and heart d...</td>\n",
       "      <td>, past surgical history, facial history, and ...</td>\n",
       "      <td>non-stroke</td>\n",
       "    </tr>\n",
       "    <tr>\n",
       "      <th>5</th>\n",
       "      <td>admission date:                 discharge date...</td>\n",
       "      <td>Acute respiratory failure</td>\n",
       "      <td>: cad s p stent in   chf htn pe     pancreati...</td>\n",
       "      <td>: the patient has been in rehab for the past ...</td>\n",
       "      <td>: doesn t know about siblings health  childre...</td>\n",
       "      <td>: cad s p stent in   chf htn pe     pancreati...</td>\n",
       "      <td>non-stroke</td>\n",
       "    </tr>\n",
       "  </tbody>\n",
       "</table>\n",
       "</div>"
      ],
      "text/plain": [
       "                                                TEXT  \\\n",
       "1  admission date:          discharge date:      ...   \n",
       "2  admission date:                 discharge date...   \n",
       "3  admission date:                 discharge date...   \n",
       "4  admission date:                 discharge date...   \n",
       "5  admission date:                 discharge date...   \n",
       "\n",
       "                                          LONG_TITLE  \\\n",
       "1  Pulmonary tuberculosis, unspecified, tubercle ...   \n",
       "2              Acute and chronic respiratory failure   \n",
       "3         Closed fracture of sixth cervical vertebra   \n",
       "4               Benign neoplasm of cerebral meninges   \n",
       "5                          Acute respiratory failure   \n",
       "\n",
       "                                     MEDICAL_HISTORY  \\\n",
       "1   :  cardiomyopathy  idiopathic, echocardiogram...   \n",
       "2   :   copd flare fev1 40  in  , on 5l oxygen, s...   \n",
       "3   : coronary artery disease s p cabg chf htn ai...   \n",
       "4      , past surgical history, facial history, and    \n",
       "5   : cad s p stent in   chf htn pe     pancreati...   \n",
       "\n",
       "                                      SOCIAL_HISTORY  \\\n",
       "1   :  the patient is an african american female ...   \n",
       "2   : the patient is married and worked as a clin...   \n",
       "3   : patient recently discharged from   for seve...   \n",
       "4    to the initial note on     she cam to the bt...   \n",
       "5   : the patient has been in rehab for the past ...   \n",
       "\n",
       "                                      FAMILY_HISTORY  \\\n",
       "1                 :  there is a   of colon cancer      \n",
       "2   :   fhx cad  father with an mi in his 40 s, d...   \n",
       "3                               : non contributory     \n",
       "4   : cancer, diabetes, hearing loss, and heart d...   \n",
       "5   : doesn t know about siblings health  childre...   \n",
       "\n",
       "                                        HISTORY_INFO stroke_label  \n",
       "1   :  cardiomyopathy  idiopathic, echocardiogram...   non-stroke  \n",
       "2   :   copd flare fev1 40  in  , on 5l oxygen, s...   non-stroke  \n",
       "3   : coronary artery disease s p cabg chf htn ai...   non-stroke  \n",
       "4   , past surgical history, facial history, and ...   non-stroke  \n",
       "5   : cad s p stent in   chf htn pe     pancreati...   non-stroke  "
      ]
     },
     "execution_count": 7,
     "metadata": {},
     "output_type": "execute_result"
    }
   ],
   "source": [
    "EHR_df.head()"
   ]
  },
  {
   "cell_type": "code",
   "execution_count": 8,
   "metadata": {},
   "outputs": [],
   "source": [
    "#Applying the helper functions to help clean the corpus\n",
    "EHR_df['HISTORY_INFO'] = EHR_df['HISTORY_INFO'].str.split()\n",
    "EHR_df['HISTORY_INFO'] = EHR_df['HISTORY_INFO'].apply(lambda x:abbr_replace(x))"
   ]
  },
  {
   "cell_type": "code",
   "execution_count": 9,
   "metadata": {},
   "outputs": [],
   "source": [
    "#Applying the helper functions to help clean the corpus\n",
    "EHR_df['HISTORY_INFO'] = EHR_df['HISTORY_INFO'].str.split()\n",
    "EHR_df['HISTORY_INFO'] = EHR_df['HISTORY_INFO'].apply(lambda x:lem(x))\n",
    "EHR_df['HISTORY_INFO'] = EHR_df['HISTORY_INFO'].apply(lambda x:punc(x))\n",
    "EHR_df['HISTORY_INFO'] = EHR_df['HISTORY_INFO'].apply(lambda x:gensim.utils.simple_preprocess(str(x)))\n",
    "EHR_df['HISTORY_INFO'] = EHR_df['HISTORY_INFO'].apply(lambda x:[item for item in x if item not in stop])\n",
    "#joining all the words together before tokenizing the corpus\n",
    "EHR_df['HISTORY_INFO']=[\" \".join(review) for review in EHR_df['HISTORY_INFO'].values]\n"
   ]
  },
  {
   "cell_type": "code",
   "execution_count": 10,
   "metadata": {},
   "outputs": [
    {
     "name": "stdout",
     "output_type": "stream",
     "text": [
      "Number of none or unknown value: 81\n"
     ]
    }
   ],
   "source": [
    "tmp = EHR_df[pd.notnull(EHR_df['HISTORY_INFO'])]\n",
    "\n",
    "none_list = ['none', 'none none', 'none none none', 'unknown', 'unknown unknown',\n",
    "             'unknown unknown unknown', 'none unknown unknown', 'denies', 'noncontributory',\n",
    "            'unknown unknown nc', 'as above', 'non contributory']\n",
    "null_count = 0 \n",
    "\n",
    "\n",
    "for word in none_list:\n",
    "    null_count += tmp[tmp['HISTORY_INFO'] == word].shape[0]\n",
    "    \n",
    "EHR_df = tmp[~tmp['HISTORY_INFO'].isin (none_list)]\n",
    "EHR_df = EHR_df[EHR_df['HISTORY_INFO'] != '']\n",
    "print ('Number of none or unknown value: %d' %null_count)\n"
   ]
  },
  {
   "cell_type": "markdown",
   "metadata": {},
   "source": [
    "Random Sampling of the non-stroke "
   ]
  },
  {
   "cell_type": "code",
   "execution_count": null,
   "metadata": {},
   "outputs": [],
   "source": [
    "# sampling out stroke and non-stroke data and assign new user IDs\n",
    "stroke = EHR_df[EHR_df['stroke_label'] == 'stroke']\n",
    "non_stroke = EHR_df[EHR_df['stroke_label'] == 'non-stroke']\n",
    "non_stroke = non_stroke.sample(2000)\n",
    "EHR_df = pd.concat([stroke, non_stroke])\n",
    "EHR_df['ID'] = range(1, EHR_df.shape[0] + 1)\n",
    "# random shuffle data\n",
    "EHR_df = EHR_df.sample(frac=1).reset_index(drop=True)\n",
    "# examine the sampled data\n",
    "EHR_df.head()"
   ]
  },
  {
   "cell_type": "code",
   "execution_count": null,
   "metadata": {},
   "outputs": [],
   "source": [
    "stroke_corpus = EHR_df[EHR_df.stroke_label == 'stroke']['HISTORY_INFO'].values\n",
    "non_stroke_corpus = EHR_df[EHR_df.stroke_label == 'non-stroke']['HISTORY_INFO'].values"
   ]
  },
  {
   "cell_type": "code",
   "execution_count": null,
   "metadata": {},
   "outputs": [],
   "source": [
    "#Creating a helper function that will return the top 10 features in a record\n",
    "\n",
    "def topfeaturesfreq(tokenizer,sparse_matrix, top_n):\n",
    "    ''' This method will return the top 10 words associated with the tokenizer'''\n",
    "    features_counts = tokenizer.get_feature_names()\n",
    "    counts = sparse_matrix.astype(float)\n",
    "    #sort the index by the word occurance in descending order\n",
    "    counts_ind = np.argsort(counts.toarray().sum(axis=0))[::-1]\n",
    "    top_features_count = [(features_counts[i],counts.toarray().sum(axis=0)[i]) for i in counts_ind[:top_n]]\n",
    "    return top_features_count\n",
    "\n",
    "def bottomfeaturesfreq(tokenizer,sparse_matrix, bot_n):\n",
    "    ''' This method will return the bottom 10 words associated with the tokenizer'''\n",
    "    features_counts = tokenizer.get_feature_names()\n",
    "    counts = sparse_matrix.astype(float)\n",
    "    #sort the index by the word occurance in descending order\n",
    "    counts_ind = np.argsort(counts.toarray().sum(axis=0))[::-1]\n",
    "    bottom_features_count = [(features_counts[i],counts.toarray().sum(axis=0)[i]) for i in counts_ind[-bot:]]\n",
    "    return bottom_features_count\n",
    "\n",
    "def plot_words(top_features,title,ylabel):\n",
    "    ''' This fxn will help plot the top words'''\n",
    "    plt.figure(figsize=(10,10))\n",
    "    x_tic = range(len(top_features))\n",
    "    plt.bar(x_tic, [t[1] for t in top_features], align = 'center')\n",
    "    labels = [t[0] for t in top_features]\n",
    "    plt.title(title)\n",
    "    plt.xticks(x_tic,labels,rotation = 70)\n",
    "    plt.ylabel(ylabel)\n",
    "    plt.show()"
   ]
  },
  {
   "cell_type": "markdown",
   "metadata": {},
   "source": [
    "### Count Vec\n",
    "Generating the top 10 words that are associated to strokes and non-strokes from Count_Vec"
   ]
  },
  {
   "cell_type": "code",
   "execution_count": null,
   "metadata": {},
   "outputs": [],
   "source": [
    "count_vec = CountVectorizer(ngram_range=(2,2))\n",
    "stroke_count = count_vec.fit_transform(stroke_corpus)"
   ]
  },
  {
   "cell_type": "code",
   "execution_count": null,
   "metadata": {},
   "outputs": [],
   "source": [
    "stroke_count_df = pd.DataFrame(stroke_count.toarray(), columns=count_vec.get_feature_names())\n",
    "stroke_count_df.head()"
   ]
  },
  {
   "cell_type": "code",
   "execution_count": null,
   "metadata": {},
   "outputs": [],
   "source": [
    "plot_words(topfeaturesfreq(count_vec,stroke_count,top_n = 10),title = 'Top 10 words in Stroke Data using CountVec', ylabel = 'Number of Words')"
   ]
  },
  {
   "cell_type": "code",
   "execution_count": null,
   "metadata": {},
   "outputs": [],
   "source": [
    "non_stroke_count = count_vec.fit_transform(non_stroke_corpus)"
   ]
  },
  {
   "cell_type": "code",
   "execution_count": null,
   "metadata": {
    "scrolled": false
   },
   "outputs": [],
   "source": [
    "plot_words(topfeaturesfreq(count_vec,non_stroke_count,top_n = 10),title = 'Top 10 words in Non-Stroke Data using CountVec', ylabel = 'Number of Words')"
   ]
  },
  {
   "cell_type": "code",
   "execution_count": null,
   "metadata": {},
   "outputs": [],
   "source": [
    "non_stroke_count_df = pd.DataFrame(non_stroke_count.toarray(), columns=count_vec.get_feature_names())"
   ]
  },
  {
   "cell_type": "code",
   "execution_count": null,
   "metadata": {},
   "outputs": [],
   "source": [
    "non_stroke_count_df = pd.DataFrame(non_stroke_count.toarray(), columns=count_vec.get_feature_names())\n",
    "non_stroke_count_df.head()"
   ]
  },
  {
   "cell_type": "markdown",
   "metadata": {},
   "source": [
    "### TFIDF Vec\n",
    "\n",
    "Generating the top 10 words that are associated to strokes and non-strokes from TFIDF"
   ]
  },
  {
   "cell_type": "code",
   "execution_count": null,
   "metadata": {},
   "outputs": [],
   "source": [
    "tfidf_vec = TfidfVectorizer(ngram_range=(2,2))\n",
    "stroke_tfidf = tfidf_vec.fit_transform(stroke_corpus)"
   ]
  },
  {
   "cell_type": "code",
   "execution_count": null,
   "metadata": {},
   "outputs": [],
   "source": [
    "plot_words(topfeaturesfreq(tfidf_vec,stroke_tfidf,top_n = 10),title = 'Top 10 words in Stroke Data using TFIDF Vec', ylabel = 'TFIDF')"
   ]
  },
  {
   "cell_type": "code",
   "execution_count": null,
   "metadata": {},
   "outputs": [],
   "source": [
    "tfidf_vec = TfidfVectorizer(ngram_range=(2,2))\n",
    "non_stroke_tfidf = tfidf_vec.fit_transform(non_stroke_corpus)\n",
    "plot_words(topfeaturesfreq(tfidf_vec,non_stroke_tfidf,top_n = 10),title = 'Top 10 words in Non-Stroke Data using TFIDF Vec', ylabel = 'TFIDF')"
   ]
  },
  {
   "cell_type": "markdown",
   "metadata": {},
   "source": [
    "### Word2Vec Pre-Trained"
   ]
  },
  {
   "cell_type": "code",
   "execution_count": null,
   "metadata": {},
   "outputs": [],
   "source": [
    "class MySentences(object):\n",
    "    \"\"\"MySentences is a generator to produce a list of tokenized sentences \n",
    "    \n",
    "    Takes a list of numpy arrays containing documents.\n",
    "    \n",
    "    Args:\n",
    "        arrays: List of arrays, where each element in the array contains a document.\n",
    "    \"\"\"\n",
    "    def __init__(self, *arrays):\n",
    "        self.arrays = arrays\n",
    " \n",
    "    def __iter__(self):\n",
    "        for array in self.arrays:\n",
    "            for document in array:\n",
    "                for sent in nltk.sent_tokenize(document):\n",
    "                    yield nltk.word_tokenize(sent)\n",
    "\n",
    "def get_word2vec(sentences, location):\n",
    "    \"\"\"Returns trained word2vec\n",
    "    \n",
    "    Args:\n",
    "        sentences: iterator for sentences\n",
    "        \n",
    "        location (str): Path to save/load word2vec\n",
    "    \"\"\"\n",
    "    if os.path.exists(location):\n",
    "        print('Found {}'.format(location))\n",
    "        model = gensim.models.Word2Vec.load(location)\n",
    "        return model\n",
    "    \n",
    "    print('{} not found. training model'.format(location))\n",
    "    model = gensim.models.Word2Vec(sentences, size=100, window=5, min_count=5, workers=4)\n",
    "    print('Model done training. Saving to disk')\n",
    "    model.save(location)\n",
    "    return model\n"
   ]
  },
  {
   "cell_type": "code",
   "execution_count": null,
   "metadata": {},
   "outputs": [],
   "source": [
    "w2vec = get_word2vec(MySentences(EHR_df.HISTORY_INFO.values),'w2vmodel')"
   ]
  },
  {
   "cell_type": "code",
   "execution_count": null,
   "metadata": {},
   "outputs": [],
   "source": [
    "class MyTokenizer:\n",
    "    def __init__(self):\n",
    "        pass\n",
    "    \n",
    "    def fit(self, X, y=None):\n",
    "        return self\n",
    "    \n",
    "    def transform(self, X):\n",
    "        transformed_X = []\n",
    "        for document in X:\n",
    "            tokenized_doc = []\n",
    "            for sent in nltk.sent_tokenize(document):\n",
    "                tokenized_doc += nltk.word_tokenize(sent)\n",
    "            transformed_X.append(np.array(tokenized_doc))\n",
    "        return np.array(transformed_X)\n",
    "    \n",
    "    def fit_transform(self, X, y=None):\n",
    "        return self.transform(X)\n",
    "\n",
    "class MeanEmbeddingVectorizer(object):\n",
    "    def __init__(self, word2vec):\n",
    "        self.word2vec = word2vec\n",
    "        # if a text is empty we should return a vector of zeros\n",
    "        # with the same dimensionality as all the other vectors\n",
    "        self.dim = len(word2vec.wv.syn0[0])\n",
    "\n",
    "    def fit(self, X, y=None):\n",
    "        return self\n",
    "\n",
    "    def transform(self, X):\n",
    "        X = MyTokenizer().fit_transform(X)\n",
    "        \n",
    "        return np.array([\n",
    "            np.mean([self.word2vec.wv[w] for w in words if w in self.word2vec.wv]\n",
    "                    or [np.zeros(self.dim)], axis=0)\n",
    "            for words in X\n",
    "        ])\n",
    "    def fit_transform(self, X, y=None):\n",
    "        return self.transform(X)\n",
    "    "
   ]
  },
  {
   "cell_type": "code",
   "execution_count": null,
   "metadata": {},
   "outputs": [],
   "source": [
    "# mean_embedding_vectorizer = MeanEmbeddingVectorizer(w2vec)"
   ]
  },
  {
   "cell_type": "code",
   "execution_count": null,
   "metadata": {},
   "outputs": [],
   "source": [
    "# mean_embedding_vectorizer.word2vec"
   ]
  },
  {
   "cell_type": "markdown",
   "metadata": {},
   "source": [
    "## Testing Visualization"
   ]
  },
  {
   "cell_type": "code",
   "execution_count": 17,
   "metadata": {},
   "outputs": [
    {
     "data": {
      "text/html": [
       "<div>\n",
       "<style scoped>\n",
       "    .dataframe tbody tr th:only-of-type {\n",
       "        vertical-align: middle;\n",
       "    }\n",
       "\n",
       "    .dataframe tbody tr th {\n",
       "        vertical-align: top;\n",
       "    }\n",
       "\n",
       "    .dataframe thead th {\n",
       "        text-align: right;\n",
       "    }\n",
       "</style>\n",
       "<table border=\"1\" class=\"dataframe\">\n",
       "  <thead>\n",
       "    <tr style=\"text-align: right;\">\n",
       "      <th></th>\n",
       "      <th>TEXT</th>\n",
       "      <th>LONG_TITLE</th>\n",
       "      <th>MEDICAL_HISTORY</th>\n",
       "      <th>SOCIAL_HISTORY</th>\n",
       "      <th>FAMILY_HISTORY</th>\n",
       "      <th>HISTORY_INFO</th>\n",
       "      <th>stroke_label</th>\n",
       "    </tr>\n",
       "  </thead>\n",
       "  <tbody>\n",
       "    <tr>\n",
       "      <th>1</th>\n",
       "      <td>admission date:          discharge date:      ...</td>\n",
       "      <td>Pulmonary tuberculosis, unspecified, tubercle ...</td>\n",
       "      <td>:  cardiomyopathy  idiopathic, echocardiogram...</td>\n",
       "      <td>:  the patient is an african american female ...</td>\n",
       "      <td>:  there is a   of colon cancer</td>\n",
       "      <td>cardiomyopathy idiopathic echocardiogram showe...</td>\n",
       "      <td>non-stroke</td>\n",
       "    </tr>\n",
       "    <tr>\n",
       "      <th>2</th>\n",
       "      <td>admission date:                 discharge date...</td>\n",
       "      <td>Acute and chronic respiratory failure</td>\n",
       "      <td>:   copd flare fev1 40  in  , on 5l oxygen, s...</td>\n",
       "      <td>: the patient is married and worked as a clin...</td>\n",
       "      <td>:   fhx cad  father with an mi in his 40 s, d...</td>\n",
       "      <td>copd flare fev oxygen intubation distal trache...</td>\n",
       "      <td>non-stroke</td>\n",
       "    </tr>\n",
       "    <tr>\n",
       "      <th>3</th>\n",
       "      <td>admission date:                 discharge date...</td>\n",
       "      <td>Closed fracture of sixth cervical vertebra</td>\n",
       "      <td>: coronary artery disease s p cabg chf htn ai...</td>\n",
       "      <td>: patient recently discharged from   for seve...</td>\n",
       "      <td>: non contributory</td>\n",
       "      <td>coronary artery disease cabg chf htn aicd atri...</td>\n",
       "      <td>non-stroke</td>\n",
       "    </tr>\n",
       "    <tr>\n",
       "      <th>4</th>\n",
       "      <td>admission date:                 discharge date...</td>\n",
       "      <td>Benign neoplasm of cerebral meninges</td>\n",
       "      <td>, past surgical history, facial history, and</td>\n",
       "      <td>to the initial note on     she cam to the bt...</td>\n",
       "      <td>: cancer, diabetes, hearing loss, and heart d...</td>\n",
       "      <td>past surgical history facial history initial n...</td>\n",
       "      <td>non-stroke</td>\n",
       "    </tr>\n",
       "    <tr>\n",
       "      <th>5</th>\n",
       "      <td>admission date:                 discharge date...</td>\n",
       "      <td>Acute respiratory failure</td>\n",
       "      <td>: cad s p stent in   chf htn pe     pancreati...</td>\n",
       "      <td>: the patient has been in rehab for the past ...</td>\n",
       "      <td>: doesn t know about siblings health  childre...</td>\n",
       "      <td>cad stent chf htn pe pancreatic mass depressio...</td>\n",
       "      <td>non-stroke</td>\n",
       "    </tr>\n",
       "  </tbody>\n",
       "</table>\n",
       "</div>"
      ],
      "text/plain": [
       "                                                TEXT  \\\n",
       "1  admission date:          discharge date:      ...   \n",
       "2  admission date:                 discharge date...   \n",
       "3  admission date:                 discharge date...   \n",
       "4  admission date:                 discharge date...   \n",
       "5  admission date:                 discharge date...   \n",
       "\n",
       "                                          LONG_TITLE  \\\n",
       "1  Pulmonary tuberculosis, unspecified, tubercle ...   \n",
       "2              Acute and chronic respiratory failure   \n",
       "3         Closed fracture of sixth cervical vertebra   \n",
       "4               Benign neoplasm of cerebral meninges   \n",
       "5                          Acute respiratory failure   \n",
       "\n",
       "                                     MEDICAL_HISTORY  \\\n",
       "1   :  cardiomyopathy  idiopathic, echocardiogram...   \n",
       "2   :   copd flare fev1 40  in  , on 5l oxygen, s...   \n",
       "3   : coronary artery disease s p cabg chf htn ai...   \n",
       "4      , past surgical history, facial history, and    \n",
       "5   : cad s p stent in   chf htn pe     pancreati...   \n",
       "\n",
       "                                      SOCIAL_HISTORY  \\\n",
       "1   :  the patient is an african american female ...   \n",
       "2   : the patient is married and worked as a clin...   \n",
       "3   : patient recently discharged from   for seve...   \n",
       "4    to the initial note on     she cam to the bt...   \n",
       "5   : the patient has been in rehab for the past ...   \n",
       "\n",
       "                                      FAMILY_HISTORY  \\\n",
       "1                 :  there is a   of colon cancer      \n",
       "2   :   fhx cad  father with an mi in his 40 s, d...   \n",
       "3                               : non contributory     \n",
       "4   : cancer, diabetes, hearing loss, and heart d...   \n",
       "5   : doesn t know about siblings health  childre...   \n",
       "\n",
       "                                        HISTORY_INFO stroke_label  \n",
       "1  cardiomyopathy idiopathic echocardiogram showe...   non-stroke  \n",
       "2  copd flare fev oxygen intubation distal trache...   non-stroke  \n",
       "3  coronary artery disease cabg chf htn aicd atri...   non-stroke  \n",
       "4  past surgical history facial history initial n...   non-stroke  \n",
       "5  cad stent chf htn pe pancreatic mass depressio...   non-stroke  "
      ]
     },
     "execution_count": 17,
     "metadata": {},
     "output_type": "execute_result"
    }
   ],
   "source": [
    "EHR_df.head()"
   ]
  },
  {
   "cell_type": "markdown",
   "metadata": {},
   "source": [
    "## PCA VISUALIZATION"
   ]
  },
  {
   "cell_type": "code",
   "execution_count": null,
   "metadata": {},
   "outputs": [],
   "source": [
    "EHR_vis = EHR_df[['HISTORY_INFO','stroke_label']]"
   ]
  },
  {
   "cell_type": "code",
   "execution_count": null,
   "metadata": {},
   "outputs": [],
   "source": [
    "# convert text into word frequency\n",
    "count_vec = CountVectorizer(ngram_range = (2,2))\n",
    "X_count = count_vec.fit_transform(EHR_vis.HISTORY_INFO)\n",
    "counts = X_count.astype(float)\n",
    "# converted notes into term frequency–inverse document frequency with TfidfVectorizer\n",
    "tfidf_vec = TfidfVectorizer(ngram_range = (2,2))\n",
    "X_tfidf = tfidf_vec.fit_transform(EHR_vis.HISTORY_INFO)\n",
    "print (counts.shape)\n",
    "print (X_tfidf.shape)"
   ]
  },
  {
   "cell_type": "code",
   "execution_count": null,
   "metadata": {},
   "outputs": [],
   "source": [
    "from sklearn.decomposition import PCA\n",
    "import matplotlib.cm as cm\n",
    "from mpl_toolkits.mplot3d import Axes3D\n",
    "\n",
    "def plot_2d(plot_columns, title, xlabel, ylabel):\n",
    "    \"\"\"\n",
    "    this method generates 2D plot for dimensionality reduction\n",
    "    \"\"\"\n",
    "    # Fit the model on the numeric columns from earlier.\n",
    "    len_s = len(stroke_corpus)\n",
    "    # Make a scatter plot, shaded according to cluster assignment.\n",
    "    plt.figure(figsize = (8,8))\n",
    "    plt.scatter(x=plot_columns[:len_s, 0], y=plot_columns[:len_s,1], c = ['red', 'green'], \n",
    "                cmap = cm.brg_r, label = 'Stroke')\n",
    "    plt.scatter(x=plot_columns[len_s:,0], y=plot_columns[len_s:,1], c = 'green', \n",
    "                cmap = cm.brg_r, label = 'Non-Stroke')\n",
    "    plt.title(title)\n",
    "    plt.xlabel(xlabel)\n",
    "    plt.ylabel(ylabel)\n",
    "    plt.legend(loc = 4)"
   ]
  },
  {
   "cell_type": "code",
   "execution_count": null,
   "metadata": {},
   "outputs": [],
   "source": [
    "dataset_name = 'word ocurance'\n",
    "X = counts.toarray()\n",
    "# 1 for stroke and 0 for non-stroke\n",
    "pca_2_count = PCA(2)\n",
    "plot_columns_count = pca_2_count.fit_transform(X)\n",
    "title = \"Two PCA directions (%s)\"%dataset_name\n",
    "xlabel = \"1st eigenvector\"\n",
    "ylabel = \"2nd eigenvector\"\n"
   ]
  },
  {
   "cell_type": "code",
   "execution_count": null,
   "metadata": {},
   "outputs": [],
   "source": [
    "# visulize the data with word occurance\n",
    "plot_2d(plot_columns_count, title, xlabel, ylabel)"
   ]
  },
  {
   "cell_type": "code",
   "execution_count": null,
   "metadata": {
    "scrolled": true
   },
   "outputs": [],
   "source": [
    "dataset_name = 'tfidf'\n",
    "X = X_tfidf.toarray()\n",
    "# 1 for stroke and 0 for non-stroke\n",
    "pca_2_tfidf = PCA(2)\n",
    "plot_columns_tfidf = pca_2_tfidf.fit_transform(X)\n",
    "title = \"Two PCA directions (%s)\"%dataset_name\n",
    "xlabel = \"1st eigenvector\"\n",
    "ylabel = \"2nd eigenvector\"\n",
    "\n",
    "# visulize the data with word tfidf\n",
    "plot_2d(plot_columns_tfidf, title, xlabel, ylabel)"
   ]
  },
  {
   "cell_type": "code",
   "execution_count": null,
   "metadata": {},
   "outputs": [],
   "source": [
    "with open('EHR_df_final', 'wb') as f: #change\n",
    "    pickle.dump(EHR_df, f)         #change "
   ]
  },
  {
   "cell_type": "code",
   "execution_count": null,
   "metadata": {},
   "outputs": [],
   "source": []
  }
 ],
 "metadata": {
  "kernelspec": {
   "display_name": "Python 3",
   "language": "python",
   "name": "python3"
  },
  "language_info": {
   "codemirror_mode": {
    "name": "ipython",
    "version": 3
   },
   "file_extension": ".py",
   "mimetype": "text/x-python",
   "name": "python",
   "nbconvert_exporter": "python",
   "pygments_lexer": "ipython3",
   "version": "3.6.8"
  }
 },
 "nbformat": 4,
 "nbformat_minor": 2
}
