{
 "cells": [
  {
   "cell_type": "code",
   "execution_count": 106,
   "metadata": {},
   "outputs": [],
   "source": [
    "import pickle\n",
    "import re\n",
    "import pandas as pd\n",
    "import seaborn as sns\n",
    "import matplotlib.pyplot as plt\n",
    "import matplotlib.style as style\n",
    "import numpy as np\n",
    "style.use('ggplot')\n"
   ]
  },
  {
   "cell_type": "code",
   "execution_count": 2,
   "metadata": {},
   "outputs": [],
   "source": [
    "with open('EHR_df', 'rb') as f:\n",
    "    EHR_df_cleaned = pickle.load(f)"
   ]
  },
  {
   "cell_type": "markdown",
   "metadata": {},
   "source": [
    "## Feature Engineering"
   ]
  },
  {
   "cell_type": "code",
   "execution_count": 3,
   "metadata": {},
   "outputs": [
    {
     "data": {
      "text/html": [
       "<div>\n",
       "<style scoped>\n",
       "    .dataframe tbody tr th:only-of-type {\n",
       "        vertical-align: middle;\n",
       "    }\n",
       "\n",
       "    .dataframe tbody tr th {\n",
       "        vertical-align: top;\n",
       "    }\n",
       "\n",
       "    .dataframe thead th {\n",
       "        text-align: right;\n",
       "    }\n",
       "</style>\n",
       "<table border=\"1\" class=\"dataframe\">\n",
       "  <thead>\n",
       "    <tr style=\"text-align: right;\">\n",
       "      <th></th>\n",
       "      <th>SUBJECT_ID</th>\n",
       "      <th>HADM_ID</th>\n",
       "      <th>CATEGORY</th>\n",
       "      <th>TEXT</th>\n",
       "      <th>ICD9_CODE</th>\n",
       "      <th>LONG_TITLE</th>\n",
       "    </tr>\n",
       "  </thead>\n",
       "  <tbody>\n",
       "    <tr>\n",
       "      <th>0</th>\n",
       "      <td>22532</td>\n",
       "      <td>167853</td>\n",
       "      <td>Discharge summary</td>\n",
       "      <td>Admission Date:          Discharge Date:      ...</td>\n",
       "      <td>01193</td>\n",
       "      <td>Pulmonary tuberculosis, unspecified, tubercle ...</td>\n",
       "    </tr>\n",
       "    <tr>\n",
       "      <th>1</th>\n",
       "      <td>22532</td>\n",
       "      <td>167853</td>\n",
       "      <td>Discharge summary</td>\n",
       "      <td>Admission Date:          Discharge Date:      ...</td>\n",
       "      <td>01193</td>\n",
       "      <td>Pulmonary tuberculosis, unspecified, tubercle ...</td>\n",
       "    </tr>\n",
       "    <tr>\n",
       "      <th>2</th>\n",
       "      <td>13702</td>\n",
       "      <td>196489</td>\n",
       "      <td>Discharge summary</td>\n",
       "      <td>Admission Date:                 Discharge Date...</td>\n",
       "      <td>51884</td>\n",
       "      <td>Acute and chronic respiratory failure</td>\n",
       "    </tr>\n",
       "    <tr>\n",
       "      <th>3</th>\n",
       "      <td>26880</td>\n",
       "      <td>135453</td>\n",
       "      <td>Discharge summary</td>\n",
       "      <td>Admission Date:                 Discharge Date...</td>\n",
       "      <td>80506</td>\n",
       "      <td>Closed fracture of sixth cervical vertebra</td>\n",
       "    </tr>\n",
       "    <tr>\n",
       "      <th>4</th>\n",
       "      <td>53181</td>\n",
       "      <td>170490</td>\n",
       "      <td>Discharge summary</td>\n",
       "      <td>Admission Date:                 Discharge Date...</td>\n",
       "      <td>2252</td>\n",
       "      <td>Benign neoplasm of cerebral meninges</td>\n",
       "    </tr>\n",
       "  </tbody>\n",
       "</table>\n",
       "</div>"
      ],
      "text/plain": [
       "   SUBJECT_ID  HADM_ID           CATEGORY  \\\n",
       "0       22532   167853  Discharge summary   \n",
       "1       22532   167853  Discharge summary   \n",
       "2       13702   196489  Discharge summary   \n",
       "3       26880   135453  Discharge summary   \n",
       "4       53181   170490  Discharge summary   \n",
       "\n",
       "                                                TEXT ICD9_CODE  \\\n",
       "0  Admission Date:          Discharge Date:      ...     01193   \n",
       "1  Admission Date:          Discharge Date:      ...     01193   \n",
       "2  Admission Date:                 Discharge Date...     51884   \n",
       "3  Admission Date:                 Discharge Date...     80506   \n",
       "4  Admission Date:                 Discharge Date...      2252   \n",
       "\n",
       "                                          LONG_TITLE  \n",
       "0  Pulmonary tuberculosis, unspecified, tubercle ...  \n",
       "1  Pulmonary tuberculosis, unspecified, tubercle ...  \n",
       "2              Acute and chronic respiratory failure  \n",
       "3         Closed fracture of sixth cervical vertebra  \n",
       "4               Benign neoplasm of cerebral meninges  "
      ]
     },
     "execution_count": 3,
     "metadata": {},
     "output_type": "execute_result"
    }
   ],
   "source": [
    "EHR_df_cleaned.head()"
   ]
  },
  {
   "cell_type": "markdown",
   "metadata": {},
   "source": [
    "Creating the following features from TEXT column of the dataframe:\n",
    "\n",
    "1) Social History\n",
    "\n",
    "2) Medical History\n",
    "\n",
    "3) Family History"
   ]
  },
  {
   "cell_type": "code",
   "execution_count": 4,
   "metadata": {},
   "outputs": [],
   "source": [
    "#Making all the TEXT lower case\n",
    "EHR_df_cleaned.TEXT = EHR_df_cleaned.TEXT.str.lower()"
   ]
  },
  {
   "cell_type": "code",
   "execution_count": 5,
   "metadata": {},
   "outputs": [],
   "source": [
    "#Creating history features that represent a patients EHR\n",
    "EHR_df_cleaned['MEDICAL_HISTORY'] = EHR_df_cleaned.TEXT.apply(lambda x: x[x.find('past medical history'):x.find('social history')])\n",
    "EHR_df_cleaned['SOCIAL_HISTORY'] = EHR_df_cleaned.TEXT.apply(lambda x: x[x.find('social history'):x.find('family history')])\n",
    "EHR_df_cleaned['FAMILY_HISTORY'] = EHR_df_cleaned.TEXT.apply(lambda x: x[x.find('family history'):x.find('physical exam')])\n"
   ]
  },
  {
   "cell_type": "code",
   "execution_count": 6,
   "metadata": {},
   "outputs": [
    {
     "data": {
      "text/html": [
       "<div>\n",
       "<style scoped>\n",
       "    .dataframe tbody tr th:only-of-type {\n",
       "        vertical-align: middle;\n",
       "    }\n",
       "\n",
       "    .dataframe tbody tr th {\n",
       "        vertical-align: top;\n",
       "    }\n",
       "\n",
       "    .dataframe thead th {\n",
       "        text-align: right;\n",
       "    }\n",
       "</style>\n",
       "<table border=\"1\" class=\"dataframe\">\n",
       "  <thead>\n",
       "    <tr style=\"text-align: right;\">\n",
       "      <th></th>\n",
       "      <th>SUBJECT_ID</th>\n",
       "      <th>HADM_ID</th>\n",
       "      <th>CATEGORY</th>\n",
       "      <th>TEXT</th>\n",
       "      <th>ICD9_CODE</th>\n",
       "      <th>LONG_TITLE</th>\n",
       "      <th>MEDICAL_HISTORY</th>\n",
       "      <th>SOCIAL_HISTORY</th>\n",
       "      <th>FAMILY_HISTORY</th>\n",
       "    </tr>\n",
       "  </thead>\n",
       "  <tbody>\n",
       "    <tr>\n",
       "      <th>0</th>\n",
       "      <td>22532</td>\n",
       "      <td>167853</td>\n",
       "      <td>Discharge summary</td>\n",
       "      <td>admission date:          discharge date:      ...</td>\n",
       "      <td>01193</td>\n",
       "      <td>Pulmonary tuberculosis, unspecified, tubercle ...</td>\n",
       "      <td>past medical history   abdominal ct:  abdomina...</td>\n",
       "      <td></td>\n",
       "      <td></td>\n",
       "    </tr>\n",
       "    <tr>\n",
       "      <th>1</th>\n",
       "      <td>22532</td>\n",
       "      <td>167853</td>\n",
       "      <td>Discharge summary</td>\n",
       "      <td>admission date:          discharge date:      ...</td>\n",
       "      <td>01193</td>\n",
       "      <td>Pulmonary tuberculosis, unspecified, tubercle ...</td>\n",
       "      <td>past medical history:  cardiomyopathy  idiopat...</td>\n",
       "      <td>social history:  the patient is an african ame...</td>\n",
       "      <td>family history:  there is a family history of ...</td>\n",
       "    </tr>\n",
       "    <tr>\n",
       "      <th>2</th>\n",
       "      <td>13702</td>\n",
       "      <td>196489</td>\n",
       "      <td>Discharge summary</td>\n",
       "      <td>admission date:                 discharge date...</td>\n",
       "      <td>51884</td>\n",
       "      <td>Acute and chronic respiratory failure</td>\n",
       "      <td>past medical history:   copd flare fev1 40  in...</td>\n",
       "      <td>social history: the patient is married and wor...</td>\n",
       "      <td>family history:   fhx cad  father with an mi i...</td>\n",
       "    </tr>\n",
       "    <tr>\n",
       "      <th>3</th>\n",
       "      <td>26880</td>\n",
       "      <td>135453</td>\n",
       "      <td>Discharge summary</td>\n",
       "      <td>admission date:                 discharge date...</td>\n",
       "      <td>80506</td>\n",
       "      <td>Closed fracture of sixth cervical vertebra</td>\n",
       "      <td>past medical history: coronary artery disease ...</td>\n",
       "      <td>social history: patient recently discharged fr...</td>\n",
       "      <td>family history: non contributory</td>\n",
       "    </tr>\n",
       "    <tr>\n",
       "      <th>4</th>\n",
       "      <td>53181</td>\n",
       "      <td>170490</td>\n",
       "      <td>Discharge summary</td>\n",
       "      <td>admission date:                 discharge date...</td>\n",
       "      <td>2252</td>\n",
       "      <td>Benign neoplasm of cerebral meninges</td>\n",
       "      <td>past medical history, past surgical history, f...</td>\n",
       "      <td>social history to the initial note on     she ...</td>\n",
       "      <td>family history: cancer, diabetes, hearing loss...</td>\n",
       "    </tr>\n",
       "  </tbody>\n",
       "</table>\n",
       "</div>"
      ],
      "text/plain": [
       "   SUBJECT_ID  HADM_ID           CATEGORY  \\\n",
       "0       22532   167853  Discharge summary   \n",
       "1       22532   167853  Discharge summary   \n",
       "2       13702   196489  Discharge summary   \n",
       "3       26880   135453  Discharge summary   \n",
       "4       53181   170490  Discharge summary   \n",
       "\n",
       "                                                TEXT ICD9_CODE  \\\n",
       "0  admission date:          discharge date:      ...     01193   \n",
       "1  admission date:          discharge date:      ...     01193   \n",
       "2  admission date:                 discharge date...     51884   \n",
       "3  admission date:                 discharge date...     80506   \n",
       "4  admission date:                 discharge date...      2252   \n",
       "\n",
       "                                          LONG_TITLE  \\\n",
       "0  Pulmonary tuberculosis, unspecified, tubercle ...   \n",
       "1  Pulmonary tuberculosis, unspecified, tubercle ...   \n",
       "2              Acute and chronic respiratory failure   \n",
       "3         Closed fracture of sixth cervical vertebra   \n",
       "4               Benign neoplasm of cerebral meninges   \n",
       "\n",
       "                                     MEDICAL_HISTORY  \\\n",
       "0  past medical history   abdominal ct:  abdomina...   \n",
       "1  past medical history:  cardiomyopathy  idiopat...   \n",
       "2  past medical history:   copd flare fev1 40  in...   \n",
       "3  past medical history: coronary artery disease ...   \n",
       "4  past medical history, past surgical history, f...   \n",
       "\n",
       "                                      SOCIAL_HISTORY  \\\n",
       "0                                                      \n",
       "1  social history:  the patient is an african ame...   \n",
       "2  social history: the patient is married and wor...   \n",
       "3  social history: patient recently discharged fr...   \n",
       "4  social history to the initial note on     she ...   \n",
       "\n",
       "                                      FAMILY_HISTORY  \n",
       "0                                                     \n",
       "1  family history:  there is a family history of ...  \n",
       "2  family history:   fhx cad  father with an mi i...  \n",
       "3                 family history: non contributory    \n",
       "4  family history: cancer, diabetes, hearing loss...  "
      ]
     },
     "execution_count": 6,
     "metadata": {},
     "output_type": "execute_result"
    }
   ],
   "source": [
    "EHR_df_cleaned.head()"
   ]
  },
  {
   "cell_type": "code",
   "execution_count": 7,
   "metadata": {},
   "outputs": [
    {
     "name": "stdout",
     "output_type": "stream",
     "text": [
      "# of empty entries from Social History is 16119\n",
      "# of empty entries from Family History is 18473\n",
      "# of empty entries from Social History is 10380\n"
     ]
    }
   ],
   "source": [
    "print('# of empty entries from Social History is {}'.format((EHR_df_cleaned['SOCIAL_HISTORY'] == '').sum()))\n",
    "print('# of empty entries from Family History is {}'.format((EHR_df_cleaned['FAMILY_HISTORY'] == '').sum()))\n",
    "print('# of empty entries from Social History is {}'.format((EHR_df_cleaned['MEDICAL_HISTORY'] == '').sum()))"
   ]
  },
  {
   "cell_type": "code",
   "execution_count": 8,
   "metadata": {},
   "outputs": [],
   "source": [
    "#Want to get rid of the rows that have ALL missing entries from social, family, and medical history\n",
    "\n",
    "EHR_df = EHR_df_cleaned[(EHR_df_cleaned['SOCIAL_HISTORY']!='') & (EHR_df_cleaned['FAMILY_HISTORY'] != '') & (EHR_df_cleaned['MEDICAL_HISTORY'] != '')]"
   ]
  },
  {
   "cell_type": "code",
   "execution_count": 9,
   "metadata": {},
   "outputs": [
    {
     "data": {
      "text/plain": [
       "(38122, 9)"
      ]
     },
     "execution_count": 9,
     "metadata": {},
     "output_type": "execute_result"
    }
   ],
   "source": [
    "EHR_df.shape"
   ]
  },
  {
   "cell_type": "code",
   "execution_count": 10,
   "metadata": {},
   "outputs": [
    {
     "name": "stderr",
     "output_type": "stream",
     "text": [
      "/anaconda3/lib/python3.6/site-packages/pandas/core/generic.py:4405: SettingWithCopyWarning: \n",
      "A value is trying to be set on a copy of a slice from a DataFrame.\n",
      "Try using .loc[row_indexer,col_indexer] = value instead\n",
      "\n",
      "See the caveats in the documentation: http://pandas.pydata.org/pandas-docs/stable/indexing.html#indexing-view-versus-copy\n",
      "  self[name] = value\n"
     ]
    }
   ],
   "source": [
    "#Removing all the column titles off the history entries\n",
    "EHR_df.MEDICAL_HISTORY = EHR_df.MEDICAL_HISTORY.str.replace('past medical history', ' ')\n",
    "EHR_df.SOCIAL_HISTORY = EHR_df.SOCIAL_HISTORY.str.replace('social history', ' ')\n",
    "EHR_df.FAMILY_HISTORY = EHR_df.FAMILY_HISTORY.str.replace('family history', ' ')"
   ]
  },
  {
   "cell_type": "markdown",
   "metadata": {},
   "source": [
    "Now we could combine all the social, family, and medical history into one history info table"
   ]
  },
  {
   "cell_type": "code",
   "execution_count": 11,
   "metadata": {},
   "outputs": [
    {
     "name": "stderr",
     "output_type": "stream",
     "text": [
      "/anaconda3/lib/python3.6/site-packages/ipykernel_launcher.py:1: SettingWithCopyWarning: \n",
      "A value is trying to be set on a copy of a slice from a DataFrame.\n",
      "Try using .loc[row_indexer,col_indexer] = value instead\n",
      "\n",
      "See the caveats in the documentation: http://pandas.pydata.org/pandas-docs/stable/indexing.html#indexing-view-versus-copy\n",
      "  \"\"\"Entry point for launching an IPython kernel.\n"
     ]
    }
   ],
   "source": [
    "EHR_df['HISTORY_INFO'] = EHR_df['MEDICAL_HISTORY'] + EHR_df['SOCIAL_HISTORY'] + EHR_df['FAMILY_HISTORY']"
   ]
  },
  {
   "cell_type": "code",
   "execution_count": 12,
   "metadata": {},
   "outputs": [
    {
     "data": {
      "text/html": [
       "<div>\n",
       "<style scoped>\n",
       "    .dataframe tbody tr th:only-of-type {\n",
       "        vertical-align: middle;\n",
       "    }\n",
       "\n",
       "    .dataframe tbody tr th {\n",
       "        vertical-align: top;\n",
       "    }\n",
       "\n",
       "    .dataframe thead th {\n",
       "        text-align: right;\n",
       "    }\n",
       "</style>\n",
       "<table border=\"1\" class=\"dataframe\">\n",
       "  <thead>\n",
       "    <tr style=\"text-align: right;\">\n",
       "      <th></th>\n",
       "      <th>SUBJECT_ID</th>\n",
       "      <th>HADM_ID</th>\n",
       "      <th>CATEGORY</th>\n",
       "      <th>TEXT</th>\n",
       "      <th>ICD9_CODE</th>\n",
       "      <th>LONG_TITLE</th>\n",
       "      <th>MEDICAL_HISTORY</th>\n",
       "      <th>SOCIAL_HISTORY</th>\n",
       "      <th>FAMILY_HISTORY</th>\n",
       "      <th>HISTORY_INFO</th>\n",
       "    </tr>\n",
       "  </thead>\n",
       "  <tbody>\n",
       "    <tr>\n",
       "      <th>1</th>\n",
       "      <td>22532</td>\n",
       "      <td>167853</td>\n",
       "      <td>Discharge summary</td>\n",
       "      <td>admission date:          discharge date:      ...</td>\n",
       "      <td>01193</td>\n",
       "      <td>Pulmonary tuberculosis, unspecified, tubercle ...</td>\n",
       "      <td>:  cardiomyopathy  idiopathic, echocardiogram...</td>\n",
       "      <td>:  the patient is an african american female ...</td>\n",
       "      <td>:  there is a   of colon cancer</td>\n",
       "      <td>:  cardiomyopathy  idiopathic, echocardiogram...</td>\n",
       "    </tr>\n",
       "    <tr>\n",
       "      <th>2</th>\n",
       "      <td>13702</td>\n",
       "      <td>196489</td>\n",
       "      <td>Discharge summary</td>\n",
       "      <td>admission date:                 discharge date...</td>\n",
       "      <td>51884</td>\n",
       "      <td>Acute and chronic respiratory failure</td>\n",
       "      <td>:   copd flare fev1 40  in  , on 5l oxygen, s...</td>\n",
       "      <td>: the patient is married and worked as a clin...</td>\n",
       "      <td>:   fhx cad  father with an mi in his 40 s, d...</td>\n",
       "      <td>:   copd flare fev1 40  in  , on 5l oxygen, s...</td>\n",
       "    </tr>\n",
       "    <tr>\n",
       "      <th>3</th>\n",
       "      <td>26880</td>\n",
       "      <td>135453</td>\n",
       "      <td>Discharge summary</td>\n",
       "      <td>admission date:                 discharge date...</td>\n",
       "      <td>80506</td>\n",
       "      <td>Closed fracture of sixth cervical vertebra</td>\n",
       "      <td>: coronary artery disease s p cabg chf htn ai...</td>\n",
       "      <td>: patient recently discharged from   for seve...</td>\n",
       "      <td>: non contributory</td>\n",
       "      <td>: coronary artery disease s p cabg chf htn ai...</td>\n",
       "    </tr>\n",
       "    <tr>\n",
       "      <th>4</th>\n",
       "      <td>53181</td>\n",
       "      <td>170490</td>\n",
       "      <td>Discharge summary</td>\n",
       "      <td>admission date:                 discharge date...</td>\n",
       "      <td>2252</td>\n",
       "      <td>Benign neoplasm of cerebral meninges</td>\n",
       "      <td>, past surgical history, facial history, and</td>\n",
       "      <td>to the initial note on     she cam to the bt...</td>\n",
       "      <td>: cancer, diabetes, hearing loss, and heart d...</td>\n",
       "      <td>, past surgical history, facial history, and ...</td>\n",
       "    </tr>\n",
       "    <tr>\n",
       "      <th>5</th>\n",
       "      <td>20646</td>\n",
       "      <td>134727</td>\n",
       "      <td>Discharge summary</td>\n",
       "      <td>admission date:                 discharge date...</td>\n",
       "      <td>51881</td>\n",
       "      <td>Acute respiratory failure</td>\n",
       "      <td>: cad s p stent in   chf htn pe     pancreati...</td>\n",
       "      <td>: the patient has been in rehab for the past ...</td>\n",
       "      <td>: doesn t know about siblings health  childre...</td>\n",
       "      <td>: cad s p stent in   chf htn pe     pancreati...</td>\n",
       "    </tr>\n",
       "  </tbody>\n",
       "</table>\n",
       "</div>"
      ],
      "text/plain": [
       "   SUBJECT_ID  HADM_ID           CATEGORY  \\\n",
       "1       22532   167853  Discharge summary   \n",
       "2       13702   196489  Discharge summary   \n",
       "3       26880   135453  Discharge summary   \n",
       "4       53181   170490  Discharge summary   \n",
       "5       20646   134727  Discharge summary   \n",
       "\n",
       "                                                TEXT ICD9_CODE  \\\n",
       "1  admission date:          discharge date:      ...     01193   \n",
       "2  admission date:                 discharge date...     51884   \n",
       "3  admission date:                 discharge date...     80506   \n",
       "4  admission date:                 discharge date...      2252   \n",
       "5  admission date:                 discharge date...     51881   \n",
       "\n",
       "                                          LONG_TITLE  \\\n",
       "1  Pulmonary tuberculosis, unspecified, tubercle ...   \n",
       "2              Acute and chronic respiratory failure   \n",
       "3         Closed fracture of sixth cervical vertebra   \n",
       "4               Benign neoplasm of cerebral meninges   \n",
       "5                          Acute respiratory failure   \n",
       "\n",
       "                                     MEDICAL_HISTORY  \\\n",
       "1   :  cardiomyopathy  idiopathic, echocardiogram...   \n",
       "2   :   copd flare fev1 40  in  , on 5l oxygen, s...   \n",
       "3   : coronary artery disease s p cabg chf htn ai...   \n",
       "4      , past surgical history, facial history, and    \n",
       "5   : cad s p stent in   chf htn pe     pancreati...   \n",
       "\n",
       "                                      SOCIAL_HISTORY  \\\n",
       "1   :  the patient is an african american female ...   \n",
       "2   : the patient is married and worked as a clin...   \n",
       "3   : patient recently discharged from   for seve...   \n",
       "4    to the initial note on     she cam to the bt...   \n",
       "5   : the patient has been in rehab for the past ...   \n",
       "\n",
       "                                      FAMILY_HISTORY  \\\n",
       "1                 :  there is a   of colon cancer      \n",
       "2   :   fhx cad  father with an mi in his 40 s, d...   \n",
       "3                               : non contributory     \n",
       "4   : cancer, diabetes, hearing loss, and heart d...   \n",
       "5   : doesn t know about siblings health  childre...   \n",
       "\n",
       "                                        HISTORY_INFO  \n",
       "1   :  cardiomyopathy  idiopathic, echocardiogram...  \n",
       "2   :   copd flare fev1 40  in  , on 5l oxygen, s...  \n",
       "3   : coronary artery disease s p cabg chf htn ai...  \n",
       "4   , past surgical history, facial history, and ...  \n",
       "5   : cad s p stent in   chf htn pe     pancreati...  "
      ]
     },
     "execution_count": 12,
     "metadata": {},
     "output_type": "execute_result"
    }
   ],
   "source": [
    "EHR_df.head()"
   ]
  },
  {
   "cell_type": "markdown",
   "metadata": {},
   "source": [
    "Now we need to create the target variable, 'stroke' or 'non-nonstroke'. This is determined by extracting the first three values of the ICD9 codes."
   ]
  },
  {
   "cell_type": "code",
   "execution_count": 17,
   "metadata": {},
   "outputs": [
    {
     "name": "stderr",
     "output_type": "stream",
     "text": [
      "/anaconda3/lib/python3.6/site-packages/pandas/core/generic.py:4405: SettingWithCopyWarning: \n",
      "A value is trying to be set on a copy of a slice from a DataFrame.\n",
      "Try using .loc[row_indexer,col_indexer] = value instead\n",
      "\n",
      "See the caveats in the documentation: http://pandas.pydata.org/pandas-docs/stable/indexing.html#indexing-view-versus-copy\n",
      "  self[name] = value\n"
     ]
    }
   ],
   "source": [
    "#Reducing the ICD9_CODE to the first 3 digits\n",
    "EHR_df.ICD9_CODE = EHR_df.ICD9_CODE.apply(lambda x: x[:3])"
   ]
  },
  {
   "cell_type": "code",
   "execution_count": 37,
   "metadata": {},
   "outputs": [],
   "source": [
    "#stroke labels were recieved from ...\n",
    "def stroke_labeler(x):\n",
    "    stroke_labels = ['430', '431', '434', '436', '463']\n",
    "    if x in stroke_labels:\n",
    "        return 'stroke'\n",
    "    else:\n",
    "        return 'non-stroke'"
   ]
  },
  {
   "cell_type": "code",
   "execution_count": 35,
   "metadata": {},
   "outputs": [
    {
     "name": "stderr",
     "output_type": "stream",
     "text": [
      "/anaconda3/lib/python3.6/site-packages/ipykernel_launcher.py:1: SettingWithCopyWarning: \n",
      "A value is trying to be set on a copy of a slice from a DataFrame.\n",
      "Try using .loc[row_indexer,col_indexer] = value instead\n",
      "\n",
      "See the caveats in the documentation: http://pandas.pydata.org/pandas-docs/stable/indexing.html#indexing-view-versus-copy\n",
      "  \"\"\"Entry point for launching an IPython kernel.\n"
     ]
    }
   ],
   "source": [
    "EHR_df['stroke_label'] = EHR_df.ICD9_CODE.apply(lambda x:stroke_labeler(x))"
   ]
  },
  {
   "cell_type": "markdown",
   "metadata": {},
   "source": [
    "## Exploratory Data Analysis"
   ]
  },
  {
   "cell_type": "markdown",
   "metadata": {},
   "source": [
    "Identifying the number of records in stroke and non-stroke group"
   ]
  },
  {
   "cell_type": "code",
   "execution_count": 102,
   "metadata": {},
   "outputs": [
    {
     "data": {
      "text/plain": [
       "Text(0.5,1,'Normalized Stroke Count')"
      ]
     },
     "execution_count": 102,
     "metadata": {},
     "output_type": "execute_result"
    },
    {
     "data": {
      "image/png": "[encoded data removed]",
      "text/plain": [
       "<Figure size 432x288 with 1 Axes>"
      ]
     },
     "metadata": {},
     "output_type": "display_data"
    }
   ],
   "source": [
    "EHR_df.stroke_label.value_counts(normalize=True).plot(kind='bar')\n",
    "plt.ylabel('Normalized Count')\n",
    "plt.title('Normalized Stroke Count')"
   ]
  },
  {
   "cell_type": "code",
   "execution_count": 88,
   "metadata": {},
   "outputs": [
    {
     "data": {
      "text/plain": [
       "non-stroke    36417\n",
       "stroke         1705\n",
       "Name: stroke_label, dtype: int64"
      ]
     },
     "execution_count": 88,
     "metadata": {},
     "output_type": "execute_result"
    }
   ],
   "source": [
    "EHR_df.stroke_label.value_counts(ascending=False)"
   ]
  },
  {
   "cell_type": "code",
   "execution_count": 89,
   "metadata": {},
   "outputs": [
    {
     "name": "stdout",
     "output_type": "stream",
     "text": [
      "The percentage of stroke records in the dataset are 4.68 %\n"
     ]
    }
   ],
   "source": [
    "print('The percentage of stroke records in the dataset are {} %'.format(np.round(1705/36417*100,2)))"
   ]
  },
  {
   "cell_type": "markdown",
   "metadata": {},
   "source": [
    "Listing the top 10 "
   ]
  },
  {
   "cell_type": "code",
   "execution_count": 110,
   "metadata": {},
   "outputs": [
    {
     "data": {
      "text/plain": [
       "<function matplotlib.pyplot.xticks>"
      ]
     },
     "execution_count": 110,
     "metadata": {},
     "output_type": "execute_result"
    },
    {
     "data": {
      "image/png": "[encoded data removed]",
      "text/plain": [
       "<Figure size 720x720 with 1 Axes>"
      ]
     },
     "metadata": {},
     "output_type": "display_data"
    }
   ],
   "source": [
    "plt.figure(figsize=(10,10))\n",
    "EHR_df.LONG_TITLE.value_counts(normalize=True)[:10].plot(kind='bar')\n",
    "plt.xticks"
   ]
  },
  {
   "cell_type": "code",
   "execution_count": 111,
   "metadata": {},
   "outputs": [
    {
     "name": "stdout",
     "output_type": "stream",
     "text": [
      "The top diagnosis is coronary atherosclerosis, which means that this is high prevalance\n"
     ]
    }
   ],
   "source": [
    "print('The top diagnosis is coronary atherosclerosis, which means that this is high prevalance')"
   ]
  },
  {
   "cell_type": "markdown",
   "metadata": {},
   "source": [
    "We will be doing more feature engineering using NLP techniques like tfidf, count vec, and w2v. This will be done in the next notebook."
   ]
  },
  {
   "cell_type": "markdown",
   "metadata": {},
   "source": [
    "## Saving pickle from this notebook"
   ]
  },
  {
   "cell_type": "code",
   "execution_count": 1,
   "metadata": {},
   "outputs": [
    {
     "ename": "NameError",
     "evalue": "name 'pickle' is not defined",
     "output_type": "error",
     "traceback": [
      "\u001b[0;31m---------------------------------------------------------------------------\u001b[0m",
      "\u001b[0;31mNameError\u001b[0m                                 Traceback (most recent call last)",
      "\u001b[0;32m<ipython-input-1-c952836ca2ac>\u001b[0m in \u001b[0;36m<module>\u001b[0;34m()\u001b[0m\n\u001b[1;32m      1\u001b[0m \u001b[0;32mwith\u001b[0m \u001b[0mopen\u001b[0m\u001b[0;34m(\u001b[0m\u001b[0;34m'EHR_df_final'\u001b[0m\u001b[0;34m,\u001b[0m \u001b[0;34m'wb'\u001b[0m\u001b[0;34m)\u001b[0m \u001b[0;32mas\u001b[0m \u001b[0mf\u001b[0m\u001b[0;34m:\u001b[0m \u001b[0;31m#change\u001b[0m\u001b[0;34m\u001b[0m\u001b[0;34m\u001b[0m\u001b[0m\n\u001b[0;32m----> 2\u001b[0;31m     \u001b[0mpickle\u001b[0m\u001b[0;34m.\u001b[0m\u001b[0mdump\u001b[0m\u001b[0;34m(\u001b[0m\u001b[0mEHR_df\u001b[0m\u001b[0;34m,\u001b[0m \u001b[0mf\u001b[0m\u001b[0;34m)\u001b[0m         \u001b[0;31m#change\u001b[0m\u001b[0;34m\u001b[0m\u001b[0;34m\u001b[0m\u001b[0m\n\u001b[0m",
      "\u001b[0;31mNameError\u001b[0m: name 'pickle' is not defined"
     ]
    }
   ],
   "source": [
    "with open('EHR_df_part2', 'wb') as f: #change\n",
    "    pickle.dump(EHR_df, f)         #change "
   ]
  },
  {
   "cell_type": "code",
   "execution_count": null,
   "metadata": {},
   "outputs": [],
   "source": []
  }
 ],
 "metadata": {
  "kernelspec": {
   "display_name": "Python 3",
   "language": "python",
   "name": "python3"
  },
  "language_info": {
   "codemirror_mode": {
    "name": "ipython",
    "version": 3
   },
   "file_extension": ".py",
   "mimetype": "text/x-python",
   "name": "python",
   "nbconvert_exporter": "python",
   "pygments_lexer": "ipython3",
   "version": "3.6.8"
  }
 },
 "nbformat": 4,
 "nbformat_minor": 2
}
