{
 "cells": [
  {
   "cell_type": "markdown",
   "metadata": {},
   "source": [
    "# Introduction"
   ]
  },
  {
   "cell_type": "markdown",
   "metadata": {},
   "source": [
    "The increased use of digital information and electronic health records (EHRs) is creating 'Big Data' to the healthcare industry. Along with the development of technologies such as machine learning and big data techniques, health care industries are utilizing predictive modeling with electronic health records (EHR) to drive personalized medicine and improve healthcare quality. For my final project, I wanted to explore the idea of extracting free text data from physician notes of a EHR to help identify those patients suspected of having life-threatening disease. In particular, I wanted to predict if an individual is at risk of a stroke based on their social, medical, and family history in order to prevent strokes. "
   ]
  },
  {
   "cell_type": "markdown",
   "metadata": {},
   "source": [
    "# Problem Statement"
   ]
  },
  {
   "cell_type": "markdown",
   "metadata": {},
   "source": [
    "To make a classification model to predict risk of strokes."
   ]
  },
  {
   "cell_type": "markdown",
   "metadata": {},
   "source": [
    "# Data"
   ]
  },
  {
   "cell_type": "markdown",
   "metadata": {},
   "source": [
    "Data was extracted from the MIMIC-III (Medical Information Mart for Intesive Care), a large, single-center database comprising information related to patients to critical care units at a large tertiary care hospital, is used. The MIMIC-III database includes 26 tables but for my analysis, I focused on 3 tables. (1) NOTEEVENTS- Nursing and Physician Notes. (2) Diagnoses_ICD (Hospital assigned diagnoses, coded using the International Statistical Classification of Disease and Related Health Problems. (3) D_Diagnoses_ICD( ICD-9 Codes related to diagnoses tables)."
   ]
  },
  {
   "cell_type": "code",
   "execution_count": 1,
   "metadata": {},
   "outputs": [],
   "source": [
    "import pandas as pd\n",
    "import re"
   ]
  },
  {
   "cell_type": "markdown",
   "metadata": {},
   "source": [
    "## Data Cleaning "
   ]
  },
  {
   "cell_type": "code",
   "execution_count": 36,
   "metadata": {},
   "outputs": [],
   "source": [
    "class Ehr_df_builder():\n",
    "    '''  \n",
    "    Inputs:   \n",
    "    Load and cleans the three csvs and merges them into a final EHR dataframe\n",
    "    (1) D_ICD_DIAGNOSES.csv \n",
    "    (2) DIAGNOSES_ICD.csv \n",
    "    (3) NOTEEVENTS.csv \n",
    "    \n",
    "    Output:\n",
    "    A dataframe that contains the merged tables    \n",
    "    '''\n",
    "    \n",
    "    def __init__(self):\n",
    "        \n",
    "        #runs script\n",
    "        self.wrapper()\n",
    "        \n",
    "    def wrapper(self):\n",
    "        self.load_data()\n",
    "        self.clean_text()\n",
    "        self.remove_null()\n",
    "        self.int_converter()\n",
    "        self.dropping_features()\n",
    "        self.discharge_summary()\n",
    "        self.final_dataframe()\n",
    "    \n",
    "    #Loading ALL the individual csvs \n",
    "    def load_data(self):\n",
    "        '''\n",
    "        Input:\n",
    "        D_ICD_DIAGNOSES.csv - Definition table for ICD diagnoses.\n",
    "        DIAGNOSES_ICD.csv - Contains ICD diagnoses for patients, most notably ICD-9 diagnoses. Codes are generated for billing purposes.\n",
    "        NOTEEVENTS.csv - Contains all notes for patients from doctor or nurses.\n",
    "        \n",
    "        Return:\n",
    "        noteevents, d_icd_diagnosis, diagnosis_icd dataframes\n",
    "        '''\n",
    "        self.noteevents = pd.read_csv('/Users/matttom/Desktop/Final_project/MIMIC_data/NOTEEVENTS.csv')\n",
    "        self.d_icd_diagnosis = pd.read_csv('/Users/matttom/Desktop/Final_project/MIMIC_data/D_ICD_DIAGNOSES.csv')\n",
    "        self.diagnosis_icd = pd.read_csv('/Users/matttom/Desktop/Final_project/MIMIC_data/DIAGNOSES_ICD.csv')\n",
    "\n",
    "    def clean_text(self):\n",
    "        #Applies regex commands to clean the corpus\n",
    "        self.noteevents.TEXT = self.noteevents.TEXT.apply(lambda x : x.replace('\\n', ' '))\n",
    "        self.noteevents.TEXT = self.noteevents.TEXT.apply(lambda x:re.sub('\\[.*?\\]', ' ', x))\n",
    "        self.noteevents.TEXT = self.noteevents.TEXT.apply(lambda x:re.sub('[^a-zA-Z0-9: ‘,]+', ' ', x))\n",
    "        \n",
    "    def remove_null(self):\n",
    "        #Dropping all the null values from HADM_ID\n",
    "        self.noteevents.dropna(subset=['HADM_ID'],inplace=True)\n",
    "        \n",
    "    def int_converter(self):\n",
    "        #Convert float objects to int\n",
    "        self.noteevents.HADM_ID = self.noteevents.HADM_ID.astype(int)\n",
    "        \n",
    "    def dropping_features(self):\n",
    "        #Dropping features that are not important \n",
    "        self.noteevents = self.noteevents.drop(columns=['ROW_ID','CHARTDATE','CHARTTIME','STORETIME','CGID','DESCRIPTION'])\n",
    "        self.d_icd_diagnosis.drop(columns=['ROW_ID', 'SHORT_TITLE'],inplace=True)\n",
    "        self.diagnosis_icd.drop(columns=['ROW_ID'],inplace=True);\n",
    "        \n",
    "        #Only concerned with the diagnosis that are the top priority, which is SEQ_NUM==1.0'''\n",
    "        self.diagnosis_icd = self.diagnosis_icd[self.diagnosis_icd.SEQ_NUM == 1.0]\n",
    "        self.diagnosis_icd.reset_index(inplace=True,drop=True)\n",
    "        \n",
    "        #Dropping SEQ_NUM COL as it is not important anymore\n",
    "        self.diagnosis_icd.drop(columns=['SEQ_NUM'],inplace=True)\n",
    "        \n",
    "        #IF ISERROR=1, that means a physician has identified that EHR to have an error. We need to remove the physician notes that have errors.\n",
    "        self.noteevents = self.noteevents[self.noteevents.ISERROR != 1]\n",
    "        self.noteevents.reset_index(inplace=True,drop=True)\n",
    "        \n",
    "        #Don't need the iserror column anymore after we removed the values that statisfied ISERROR =1\n",
    "        self.noteevents.drop(columns=['ISERROR'], inplace=True)\n",
    "        \n",
    "    def discharge_summary(self):\n",
    "        #Collecting all the physician notes that have the cateogory:discharge summary\n",
    "        self.noteevents = self.noteevents[self.noteevents.CATEGORY=='Discharge summary']\n",
    "        \n",
    "    def final_dataframe(self):\n",
    "        #Creating a ehr final dataframe that contains ALL 3 tables:noteevents, d_icd_diagnosis, diagnosis_icd. \n",
    "        self.diagnosis_df = self.d_icd_diagnosis.merge(self.diagnosis_icd, on ='ICD9_CODE',how='inner')\n",
    "        self.ehr_df = self.noteevents.merge(self.diagnosis_df, on=['SUBJECT_ID','HADM_ID'], how='inner')\n",
    "        self.ehr_df.reset_index(inplace=True,drop=True)\n",
    "        \n",
    "      "
   ]
  },
  {
   "cell_type": "code",
   "execution_count": 31,
   "metadata": {
    "scrolled": true
   },
   "outputs": [
    {
     "name": "stderr",
     "output_type": "stream",
     "text": [
      "/anaconda3/lib/python3.6/site-packages/ipykernel_launcher.py:1: DtypeWarning: Columns (4,5) have mixed types. Specify dtype option on import or set low_memory=False.\n",
      "  \"\"\"Entry point for launching an IPython kernel.\n"
     ]
    }
   ],
   "source": [
    "new=DataFrame_Cleaner()"
   ]
  },
  {
   "cell_type": "code",
   "execution_count": 33,
   "metadata": {},
   "outputs": [],
   "source": [
    "ehr_df = new.ehr_df"
   ]
  },
  {
   "cell_type": "code",
   "execution_count": 34,
   "metadata": {},
   "outputs": [
    {
     "data": {
      "text/plain": [
       "(58800, 6)"
      ]
     },
     "execution_count": 34,
     "metadata": {},
     "output_type": "execute_result"
    }
   ],
   "source": [
    "ehr_df.shape"
   ]
  },
  {
   "cell_type": "code",
   "execution_count": null,
   "metadata": {},
   "outputs": [],
   "source": [
    "#Creating a saved pickle of the final dataframe\n",
    "with open('EHR_df', 'wb') as f: #change\n",
    "    pickle.dump(ehr_df, f)         #change "
   ]
  }
 ],
 "metadata": {
  "kernelspec": {
   "display_name": "Python 3",
   "language": "python",
   "name": "python3"
  },
  "language_info": {
   "codemirror_mode": {
    "name": "ipython",
    "version": 3
   },
   "file_extension": ".py",
   "mimetype": "text/x-python",
   "name": "python",
   "nbconvert_exporter": "python",
   "pygments_lexer": "ipython3",
   "version": "3.6.8"
  }
 },
 "nbformat": 4,
 "nbformat_minor": 2
}
